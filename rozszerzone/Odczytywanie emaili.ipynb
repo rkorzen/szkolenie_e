{
 "cells": [
  {
   "cell_type": "code",
   "execution_count": 2,
   "id": "7471efa3",
   "metadata": {},
   "outputs": [],
   "source": [
    "import imaplib\n",
    "import email\n",
    "from email.header import decode_header\n",
    "from getpass import getpass\n",
    "# Dane do logowania"
   ]
  },
  {
   "cell_type": "code",
   "execution_count": null,
   "id": "996aed44",
   "metadata": {},
   "outputs": [],
   "source": [
    "login = 'rkorzen@wp.pl'\n",
    "haslo = getpass()"
   ]
  },
  {
   "cell_type": "code",
   "execution_count": null,
   "id": "350e762d",
   "metadata": {},
   "outputs": [],
   "source": [
    "\n",
    "def odczytaj_cialo_wiadomosci(e_mail):\n",
    "    if e_mail.is_multipart():\n",
    "        # Dla przypadku, gdy wiadomość jest multipart (ma części)\n",
    "        for part in e_mail.walk():\n",
    "            content_type = part.get_content_type()\n",
    "            content_disposition = str(part.get(\"Content-Disposition\"))\n",
    "            \n",
    "            # Szukamy tylko części, które nie mają dodatkowych \"Content-Disposition\"\n",
    "            if content_type == \"text/plain\" and \"attachment\" not in content_disposition:\n",
    "                # Dekodujemy ciało wiadomości\n",
    "                text = part.get_payload(decode=True).decode()\n",
    "                return text\n",
    "            elif content_type == \"text/html\" and \"attachment\" not in content_disposition:\n",
    "                html = part.get_payload(decode=True).decode()\n",
    "                return html\n",
    "    else:\n",
    "        # Dla przypadku, gdy wiadomość nie jest multipart\n",
    "        content_type = e_mail.get_content_type()\n",
    "        if content_type == \"text/plain\":\n",
    "            text = e_mail.get_payload(decode=True).decode()\n",
    "            return text\n",
    "        if content_type == \"text/html\":\n",
    "            html = e_mail.get_payload(decode=True).decode()\n",
    "            return html\n",
    "    return \"\""
   ]
  },
  {
   "cell_type": "code",
   "execution_count": null,
   "id": "18e47a21",
   "metadata": {},
   "outputs": [],
   "source": [
    "# Łączenie się z serwerem IMAP\n",
    "with imaplib.IMAP4_SSL('imap.wp.pl') as mail:\n",
    "    mail.login(login, haslo)\n",
    "    \n",
    "    # Wybór skrzynki odbiorczej\n",
    "    mail.select('inbox')\n",
    "    \n",
    "    # Szukanie wiadomości - tutaj wszystkie\n",
    "    typ, dane_wiadomosci = mail.search(None, 'ALL')\n",
    "    \n",
    "    for numer in dane_wiadomosci[0].split():\n",
    "        typ, dane = mail.fetch(numer, '(RFC822)')\n",
    "        wiadomosc = email.message_from_bytes(dane[0][1])\n",
    "        \n",
    "        # Dekodowanie tematu wiadomości\n",
    "        temat = decode_header(wiadomosc['Subject'])[0][0]\n",
    "        try:\n",
    "            if isinstance(temat, bytes):\n",
    "                temat = temat.decode()\n",
    "            print('Temat:', temat)\n",
    "        except:\n",
    "            pass\n",
    "        # Tutaj możesz dodać więcej logiki do przetwarzania wiadomości,\n",
    "        # np. odczytywanie ciała wiadomości, pobieranie załączników itp.\n",
    "        \n",
    "        if temat == \"test\":\n",
    "            \n",
    "            print(odczytaj_cialo_wiadomosci(wiadomosc))\n",
    "            break\n",
    "    mail.logout()"
   ]
  },
  {
   "cell_type": "code",
   "execution_count": null,
   "id": "46cdd98d",
   "metadata": {},
   "outputs": [],
   "source": []
  }
 ],
 "metadata": {
  "kernelspec": {
   "display_name": "Python 3 (ipykernel)",
   "language": "python",
   "name": "python3"
  },
  "language_info": {
   "codemirror_mode": {
    "name": "ipython",
    "version": 3
   },
   "file_extension": ".py",
   "mimetype": "text/x-python",
   "name": "python",
   "nbconvert_exporter": "python",
   "pygments_lexer": "ipython3",
   "version": "3.10.7"
  },
  "toc": {
   "base_numbering": 1,
   "nav_menu": {},
   "number_sections": true,
   "sideBar": true,
   "skip_h1_title": false,
   "title_cell": "Table of Contents",
   "title_sidebar": "Contents",
   "toc_cell": false,
   "toc_position": {},
   "toc_section_display": true,
   "toc_window_display": false
  }
 },
 "nbformat": 4,
 "nbformat_minor": 5
}
